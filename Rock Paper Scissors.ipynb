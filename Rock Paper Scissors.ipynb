{
 "cells": [
  {
   "cell_type": "code",
   "execution_count": null,
   "metadata": {},
   "outputs": [
    {
     "name": "stdout",
     "output_type": "stream",
     "text": [
      "\n",
      "\n",
      "Rock, Paper, Scissors - Shoot!\n",
      "Choose your weapon [R]ock], [P]aper, or [S]cissors: P\n",
      "You chose: P\n",
      "I chose: P\n",
      "Tie! \n",
      "\n",
      "\n",
      "Rock, Paper, Scissors - Shoot!\n",
      "Choose your weapon [R]ock], [P]aper, or [S]cissors: r\n",
      "You chose: r\n",
      "I chose: S\n",
      "You win!\n",
      "\n",
      "\n",
      "Rock, Paper, Scissors - Shoot!\n",
      "Choose your weapon [R]ock], [P]aper, or [S]cissors: Y\n",
      "Please choose a letter:\n",
      "[R]ock, [S]cissors or [P]aper.\n",
      "\n",
      "\n",
      "Rock, Paper, Scissors - Shoot!\n",
      "Choose your weapon [R]ock], [P]aper, or [S]cissors: S\n",
      "You chose: S\n",
      "I chose: R\n",
      "Scissors beats rock, I win! \n",
      "\n",
      "\n",
      "Rock, Paper, Scissors - Shoot!\n",
      "Choose your weapon [R]ock], [P]aper, or [S]cissors: 4\n",
      "Please choose a letter:\n",
      "[R]ock, [S]cissors or [P]aper.\n",
      "\n",
      "\n",
      "Rock, Paper, Scissors - Shoot!\n",
      "Choose your weapon [R]ock], [P]aper, or [S]cissors: e\n",
      "Please choose a letter:\n",
      "[R]ock, [S]cissors or [P]aper.\n",
      "\n",
      "\n",
      "Rock, Paper, Scissors - Shoot!\n"
     ]
    }
   ],
   "source": [
    "import random\n",
    "import os\n",
    "import re\n",
    "os.system('cls' if os.name=='nt' else 'clear')\n",
    "while (1 < 2):\n",
    "    print(\"\\n\")\n",
    "    print (\"Rock, Paper, Scissors - Shoot!\")\n",
    "    userChoice = input(\"Choose your weapon [R]ock], [P]aper, or [S]cissors: \")\n",
    "    if not re.match(\"[SsRrPp]\", userChoice):\n",
    "        print (\"Please choose a letter:\")\n",
    "        print (\"[R]ock, [S]cissors or [P]aper.\")\n",
    "        continue\n",
    "    print (\"You chose: \" + userChoice)\n",
    "    choices = ['R', 'P', 'S']\n",
    "    opponenetChoice = random.choice(choices)\n",
    "    print (\"I chose: \" + opponenetChoice)\n",
    "    if opponenetChoice == str.upper(userChoice):\n",
    "        print (\"Tie! \")\n",
    "    elif opponenetChoice == 'R' and userChoice.upper() == 'S':      \n",
    "        print (\"Scissors beats rock, I win! \")\n",
    "        continue\n",
    "    elif opponenetChoice == 'S' and userChoice.upper() == 'P':      \n",
    "        print (\"Scissors beats paper! I win! \")\n",
    "        continue\n",
    "    elif opponenetChoice == 'P' and userChoice.upper() == 'R':      \n",
    "        print (\"Paper beat rock, I win! \")\n",
    "        continue\n",
    "    else:       \n",
    "        print (\"You win!\")"
   ]
  },
  {
   "cell_type": "code",
   "execution_count": null,
   "metadata": {},
   "outputs": [],
   "source": []
  }
 ],
 "metadata": {
  "kernelspec": {
   "display_name": "Python 3",
   "language": "python",
   "name": "python3"
  },
  "language_info": {
   "codemirror_mode": {
    "name": "ipython",
    "version": 3
   },
   "file_extension": ".py",
   "mimetype": "text/x-python",
   "name": "python",
   "nbconvert_exporter": "python",
   "pygments_lexer": "ipython3",
   "version": "3.8.5"
  }
 },
 "nbformat": 4,
 "nbformat_minor": 4
}
